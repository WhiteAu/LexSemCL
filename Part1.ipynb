{
 "metadata": {
  "name": "Part1"
 },
 "nbformat": 3,
 "nbformat_minor": 0,
 "worksheets": [
  {
   "cells": [
    {
     "cell_type": "code",
     "collapsed": false,
     "input": [
      "from model1 import *"
     ],
     "language": "python",
     "metadata": {},
     "outputs": [],
     "prompt_number": 2
    },
    {
     "cell_type": "heading",
     "level": 1,
     "metadata": {},
     "source": [
      "The Blue House"
     ]
    },
    {
     "cell_type": "markdown",
     "metadata": {},
     "source": [
      "A simple test corpus, and a *uniform* ttable for it."
     ]
    },
    {
     "cell_type": "code",
     "collapsed": false,
     "input": [
      "for (fr,en) in simpleTestCorpus:\n",
      "    print \"%s -> %s\" % (fr,en)\n",
      "ttable = uniformTTableInitialization(simpleTestCorpus)\n",
      "for (fr,es) in ttable.items():\n",
      "    for (en,pr) in es.items():\n",
      "        print \"%f P(%s|%s)\" % (pr,en,fr)\n"
     ],
     "language": "python",
     "metadata": {},
     "outputs": [
      {
       "output_type": "stream",
       "stream": "stdout",
       "text": [
        "['la', 'maison'] -> ['the', 'house']\n",
        "['la', 'maison', 'bleue'] -> ['the', 'blue', 'house']\n",
        "['la', 'fleur'] -> ['the', 'flower']\n",
        "0.333333 P(blue|maison)\n",
        "0.333333 P(house|maison)\n",
        "0.333333 P(the|maison)\n",
        "0.333333 P(blue|bleue)\n",
        "0.333333 P(house|bleue)\n",
        "0.333333 P(the|bleue)\n",
        "0.500000 P(the|fleur)\n",
        "0.500000 P(flower|fleur)\n",
        "0.250000 P(blue|la)\n",
        "0.250000 P(house|la)\n",
        "0.250000 P(the|la)\n",
        "0.250000 P(flower|la)\n"
       ]
      }
     ],
     "prompt_number": 3
    },
    {
     "cell_type": "code",
     "collapsed": false,
     "input": [
      "alignSentencePair(ttable, simpleTestCorpus[0][0], simpleTestCorpus[0][1])"
     ],
     "language": "python",
     "metadata": {},
     "outputs": [
      {
       "output_type": "pyout",
       "prompt_number": 4,
       "text": [
        "{0: {0: 0.4285714285714286, 1: 0.4285714285714286},\n",
        " 1: {0: 0.5714285714285715, 1: 0.5714285714285715}}"
       ]
      }
     ],
     "prompt_number": 4
    },
    {
     "cell_type": "code",
     "collapsed": false,
     "input": [
      "ttable = runEM(simpleTestCorpus)\n",
      "ttable"
     ],
     "language": "python",
     "metadata": {},
     "outputs": [
      {
       "output_type": "stream",
       "stream": "stdout",
       "text": [
        "initializing ttable\n",
        "iteration  1\n",
        "iteration  2\n",
        "iteration  3\n",
        "iteration  4\n",
        "iteration  5\n"
       ]
      },
      {
       "output_type": "pyout",
       "prompt_number": 6,
       "text": [
        "{'bleue': {'blue': 0.7528224512900094,\n",
        "  'house': 0.15850320441808027,\n",
        "  'the': 0.08867434429191036},\n",
        " 'fleur': {'flower': 0.7803448916002503, 'the': 0.2196551083997496},\n",
        " 'la': {'blue': 0.012053407685164089,\n",
        "  'flower': 0.014422102599378655,\n",
        "  'house': 0.19436855696394276,\n",
        "  'the': 0.7791559327515146},\n",
        " 'maison': {'blue': 0.04060076036032474,\n",
        "  'house': 0.6547120456722305,\n",
        "  'the': 0.30468719396744476}}"
       ]
      }
     ],
     "prompt_number": 6
    },
    {
     "cell_type": "heading",
     "level": 1,
     "metadata": {},
     "source": [
      "Science"
     ]
    },
    {
     "cell_type": "code",
     "collapsed": false,
     "input": [
      "corpus = readCorpus('Science.en', 'Science.fr', truncateWordLength=5)\n",
      "ttable = runEM(corpus)"
     ],
     "language": "python",
     "metadata": {},
     "outputs": [
      {
       "output_type": "stream",
       "stream": "stdout",
       "text": [
        "initializing ttable\n",
        "iteration "
       ]
      },
      {
       "output_type": "stream",
       "stream": "stdout",
       "text": [
        " 1\n",
        "iteration "
       ]
      },
      {
       "output_type": "stream",
       "stream": "stdout",
       "text": [
        " 2\n",
        "iteration "
       ]
      },
      {
       "output_type": "stream",
       "stream": "stdout",
       "text": [
        " 3\n",
        "iteration "
       ]
      },
      {
       "output_type": "stream",
       "stream": "stdout",
       "text": [
        " 4\n",
        "iteration "
       ]
      },
      {
       "output_type": "stream",
       "stream": "stdout",
       "text": [
        " 5\n"
       ]
      }
     ],
     "prompt_number": 8
    },
    {
     "cell_type": "code",
     "collapsed": false,
     "input": [
      "printTTable(ttable, 'ttable')"
     ],
     "language": "python",
     "metadata": {},
     "outputs": [],
     "prompt_number": 11
    },
    {
     "cell_type": "code",
     "collapsed": false,
     "input": [
      "Sys.call('ls')"
     ],
     "language": "python",
     "metadata": {},
     "outputs": [],
     "prompt_number": 17
    },
    {
     "cell_type": "code",
     "collapsed": false,
     "input": [],
     "language": "python",
     "metadata": {},
     "outputs": []
    }
   ],
   "metadata": {}
  }
 ]
}