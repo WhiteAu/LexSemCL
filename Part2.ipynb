{
 "metadata": {
  "name": "Part2"
 },
 "nbformat": 3,
 "nbformat_minor": 0,
 "worksheets": [
  {
   "cells": [
    {
     "cell_type": "code",
     "collapsed": false,
     "input": [
      "from wsd import *"
     ],
     "language": "python",
     "metadata": {},
     "outputs": [],
     "prompt_number": 1
    },
    {
     "cell_type": "heading",
     "level": 1,
     "metadata": {},
     "source": [
      "Science (baseline)"
     ]
    },
    {
     "cell_type": "code",
     "collapsed": false,
     "input": [
      "(train_acc, test_acc, test_pred) = runExperiment(\n",
      "    'Science.tr', \n",
      "    'Science.de', \n",
      "    simpleFFeatures, \n",
      "    simpleEFeatures, \n",
      "    simplePairFeatures, \n",
      "    quietVW=True)"
     ],
     "language": "python",
     "metadata": {},
     "outputs": [
      {
       "output_type": "stream",
       "stream": "stdout",
       "text": [
        "reading data from  Science.tr\n",
        "reading data from "
       ]
      },
      {
       "output_type": "stream",
       "stream": "stdout",
       "text": [
        " Science.de\n",
        "collecting translation table"
       ]
      },
      {
       "output_type": "stream",
       "stream": "stdout",
       "text": [
        "\n",
        "generating classification data"
       ]
      },
      {
       "output_type": "stream",
       "stream": "stdout",
       "text": [
        "\n",
        "executing: "
       ]
      },
      {
       "output_type": "stream",
       "stream": "stdout",
       "text": [
        " /usr/local/bin/vw -k -c --passes 10 -q st --power_t 0.5 --csoaa_ldf m -d wsd_vw.tr -f wsd_vw.model --quiet\n",
        "executing: "
       ]
      },
      {
       "output_type": "stream",
       "stream": "stdout",
       "text": [
        " /usr/local/bin/vw -t -q st --csoaa_ldf m -d wsd_vw.tr -i wsd_vw.model -r wsd_vw.tr.rawpredictions --quiet\n",
        "executing: "
       ]
      },
      {
       "output_type": "stream",
       "stream": "stdout",
       "text": [
        " /usr/local/bin/vw -t -q st --csoaa_ldf m -d wsd_vw.te -i wsd_vw.model -r wsd_vw.te.rawpredictions --quiet\n"
       ]
      }
     ],
     "prompt_number": 2
    },
    {
     "cell_type": "code",
     "collapsed": false,
     "input": [
      "print 'training accuracy =', train_acc\n",
      "print 'testing  accuracy =', test_acc\n",
      "h = open('wsd_output', 'w')\n",
      "for x in test_pred:\n",
      "    h.write(str(x[0]))\n",
      "    h.write('\\n')\n",
      "h.close()\n"
     ],
     "language": "python",
     "metadata": {},
     "outputs": [
      {
       "output_type": "stream",
       "stream": "stdout",
       "text": [
        "training accuracy = 0.996626671515\n",
        "testing  accuracy = 0.722346547315\n"
       ]
      }
     ],
     "prompt_number": 3
    },
    {
     "cell_type": "code",
     "collapsed": false,
     "input": [],
     "language": "python",
     "metadata": {},
     "outputs": []
    }
   ],
   "metadata": {}
  }
 ]
}