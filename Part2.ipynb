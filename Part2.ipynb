{
 "metadata": {
  "name": "Part2"
 },
 "nbformat": 3,
 "nbformat_minor": 0,
 "worksheets": [
  {
   "cells": [
    {
     "cell_type": "code",
     "collapsed": false,
     "input": [
      "from wsd import *"
     ],
     "language": "python",
     "metadata": {},
     "outputs": [],
     "prompt_number": 1
    },
    {
     "cell_type": "heading",
     "level": 1,
     "metadata": {},
     "source": [
      "Science (baseline)"
     ]
    },
    {
     "cell_type": "code",
     "collapsed": false,
     "input": [
      "(train_acc, test_acc, test_pred) = runExperiment(\n",
      "    'Science.tr', \n",
      "    'Science.de', \n",
      "    simpleFFeatures, \n",
      "    simpleEFeatures, \n",
      "    simplePairFeatures, \n",
      "    quietVW=True)"
     ],
     "language": "python",
     "metadata": {},
     "outputs": [
      {
       "output_type": "stream",
       "stream": "stdout",
       "text": [
        "reading data from  Science.tr\n",
        "reading data from "
       ]
      },
      {
       "output_type": "stream",
       "stream": "stdout",
       "text": [
        " Science.de\n",
        "collecting translation table"
       ]
      },
      {
       "output_type": "stream",
       "stream": "stdout",
       "text": [
        "\n",
        "generating classification data"
       ]
      },
      {
       "output_type": "stream",
       "stream": "stdout",
       "text": [
        "\n",
        "executing: "
       ]
      },
      {
       "output_type": "stream",
       "stream": "stdout",
       "text": [
        " /usr/local/bin/vw -k -c --passes 10 -q st --power_t 0.5 --csoaa_ldf m -d wsd_vw.tr -f wsd_vw.model --quiet\n",
        "executing: "
       ]
      },
      {
       "output_type": "stream",
       "stream": "stdout",
       "text": [
        " /usr/local/bin/vw -t -q st --csoaa_ldf m -d wsd_vw.tr -i wsd_vw.model -r wsd_vw.tr.rawpredictions --quiet\n",
        "executing: "
       ]
      },
      {
       "output_type": "stream",
       "stream": "stdout",
       "text": [
        " /usr/local/bin/vw -t -q st --csoaa_ldf m -d wsd_vw.te -i wsd_vw.model -r wsd_vw.te.rawpredictions --quiet\n"
       ]
      }
     ],
     "prompt_number": 2
    },
    {
     "cell_type": "code",
     "collapsed": false,
     "input": [
      "print 'training accuracy =', train_acc\n",
      "print 'testing  accuracy =', test_acc\n",
      "h = open('wsd_output', 'w')\n",
      "for x in test_pred:\n",
      "    h.write(str(x[0]))\n",
      "    h.write('\\n')\n",
      "h.close()\n"
     ],
     "language": "python",
     "metadata": {},
     "outputs": [
      {
       "output_type": "stream",
       "stream": "stdout",
       "text": [
        "training accuracy = 0.996626671515\n",
        "testing  accuracy = 0.722346547315\n"
       ]
      }
     ],
     "prompt_number": 3
    },
    {
     "cell_type": "heading",
     "level": 1,
     "metadata": {},
     "source": [
      "POS Tags"
     ]
    },
    {
     "cell_type": "code",
     "collapsed": false,
     "input": [
      "def prt(string): print str(string).center(60,'_')"
     ],
     "language": "python",
     "metadata": {},
     "outputs": [],
     "prompt_number": 3
    },
    {
     "cell_type": "markdown",
     "metadata": {},
     "source": [
      "We have to fix the bracketed text."
     ]
    },
    {
     "cell_type": "code",
     "collapsed": false,
     "input": [
      "import re\n",
      "    \n",
      "i = 0\n",
      "for line in open('Science-parsed.tr','r'):\n",
      "    if i < 2:\n",
      "        prt('orig:')\n",
      "        print line\n",
      "        if line.strip() == '':\n",
      "            print 'BLANK!!!'\n",
      "        prt('with TOP:')\n",
      "        print re.sub('\\(','(TOP', line, count=1)\n",
      "        prt('end')\n",
      "        i += 1"
     ],
     "language": "python",
     "metadata": {},
     "outputs": [
      {
       "output_type": "stream",
       "stream": "stdout",
       "text": [
        "___________________________orig:____________________________\n",
        "( (SENT (NP (DET Plusieurs) (NC membres) (PP (P de) (NP (DET cette) (NC famille)))) (VN (V ont) (ADV r\u00e9cemment) (VPP \u00e9t\u00e9) (VPP clon\u00e9s)) (PP (P chez) (NP (DET diff\u00e9rentes) (NC esp\u00e8ces) (PP (P de) (NP (NC mammif\u00e8res))))) (PONCT .)))\n",
        "\n",
        "_________________________with TOP:__________________________\n",
        "(TOP (SENT (NP (DET Plusieurs) (NC membres) (PP (P de) (NP (DET cette) (NC famille)))) (VN (V ont) (ADV r\u00e9cemment) (VPP \u00e9t\u00e9) (VPP clon\u00e9s)) (PP (P chez) (NP (DET diff\u00e9rentes) (NC esp\u00e8ces) (PP (P de) (NP (NC mammif\u00e8res))))) (PONCT .)))\n",
        "\n",
        "____________________________end_____________________________\n",
        "___________________________orig:____________________________\n",
        "\n",
        "\n",
        "BLANK!!!\n",
        "_________________________with TOP:__________________________\n",
        "\n",
        "\n",
        "____________________________end_____________________________\n"
       ]
      }
     ],
     "prompt_number": 6
    },
    {
     "cell_type": "markdown",
     "metadata": {},
     "source": [
      "What we want is the list of preterminals."
     ]
    },
    {
     "cell_type": "code",
     "collapsed": false,
     "input": [
      "from wsddata import *"
     ],
     "language": "python",
     "metadata": {},
     "outputs": [],
     "prompt_number": 1
    },
    {
     "cell_type": "code",
     "collapsed": false,
     "input": [
      "i = 0\n",
      "for tree in iterateTree('Science-parsed.tr'):\n",
      "    if i > 1: break\n",
      "    prt(i)\n",
      "    prt('tree:')\n",
      "    print tree\n",
      "    prt('leaves:')\n",
      "    for lf in tree.leaves():\n",
      "        print lf\n",
      "    prt('preterminals:')\n",
      "    for pt in tree.preterminals():\n",
      "        print pt\n",
      "    print tree.preterminals()\n",
      "    prt('end')\n",
      "    i += 1"
     ],
     "language": "python",
     "metadata": {},
     "outputs": [
      {
       "output_type": "stream",
       "stream": "stdout",
       "text": [
        "_____________________________0______________________________\n",
        "___________________________tree:____________________________\n",
        "(TOP:\n",
        "  (SENT:\n",
        "    (NP:\n",
        "      (DET: 'Plusieurs')\n",
        "      (NC: 'membres')\n",
        "      (PP: (P: 'de') (NP: (DET: 'cette') (NC: 'famille'))))\n",
        "    (VN:\n",
        "      (V: 'ont')\n",
        "      (ADV: 'r\\xc3\\xa9cemment')\n",
        "      (VPP: '\\xc3\\xa9t\\xc3\\xa9')\n",
        "      (VPP: 'clon\\xc3\\xa9s'))\n",
        "    (PP:\n",
        "      (P: 'chez')\n",
        "      (NP:\n",
        "        (DET: 'diff\\xc3\\xa9rentes')\n",
        "        (NC: 'esp\\xc3\\xa8ces')\n",
        "        (PP: (P: 'de') (NP: (NC: 'mammif\\xc3\\xa8res')))))\n",
        "    (PONCT: '.')))\n",
        "__________________________leaves:___________________________\n",
        "Plusieurs\n",
        "membres\n",
        "de\n",
        "cette\n",
        "famille\n",
        "ont\n",
        "r\u00e9cemment\n",
        "\u00e9t\u00e9\n",
        "clon\u00e9s\n",
        "chez\n",
        "diff\u00e9rentes\n",
        "esp\u00e8ces\n",
        "de\n",
        "mammif\u00e8res\n",
        ".\n",
        "_______________________preterminals:________________________\n",
        "DET\n",
        "NC\n",
        "P\n",
        "DET\n",
        "NC\n",
        "V\n",
        "ADV\n",
        "VPP\n",
        "VPP\n",
        "P\n",
        "DET\n",
        "NC\n",
        "P\n",
        "NC\n",
        "PONCT\n",
        "['DET', 'NC', 'P', 'DET', 'NC', 'V', 'ADV', 'VPP', 'VPP', 'P', 'DET', 'NC', 'P', 'NC', 'PONCT']\n",
        "____________________________end_____________________________\n",
        "_____________________________1______________________________\n",
        "___________________________tree:____________________________\n",
        "(TOP:\n",
        "  (SENT:\n",
        "    (VN: (CLS: 'On') (V: '\\xc3\\xa9tudie'))\n",
        "    (NP:\n",
        "      (DET: 'la')\n",
        "      (NC: 'd\\xc3\\xa9gradation')\n",
        "      (PP:\n",
        "        (P+D: 'du')\n",
        "        (NP:\n",
        "          (NC: 'sol')\n",
        "          (PP:\n",
        "            (P+D: 'du')\n",
        "            (NP:\n",
        "              (NC: 'point')\n",
        "              (PP: (P: 'de') (NP: (NC: 'vue')))\n",
        "              (PP:\n",
        "                (P: 'de')\n",
        "                (NP:\n",
        "                  (DET: 'la')\n",
        "                  (NC: 'd\\xc3\\xa9formation')\n",
        "                  (AP: (ADJ: 'axiale'))\n",
        "                  (AP: (ADJ: 'cyclique'))))))))\n",
        "      (PP:\n",
        "        (P+D: 'au')\n",
        "        (NP:\n",
        "          (NC: 'moyen')\n",
        "          (PP:\n",
        "            (P: \"d'\")\n",
        "            (NP:\n",
        "              (NC: 'essais')\n",
        "              (VPpart:\n",
        "                (ADV: 'triaxiaux')\n",
        "                (VPP: 'contr\\xc3\\xb4l\\xc3\\xa9s'))))))\n",
        "      (VPpart:\n",
        "        (VPP: 'faits')\n",
        "        (PP: (P: 'sur') (NP: (DET: \"l'\") (NC: 'argile'))))\n",
        "      (VPpart:\n",
        "        (ADV: 'normalement')\n",
        "        (VPP: 'consolid\\xc3\\xa9e')\n",
        "        (PP: (P: 'de') (NP: (NC: 'Hangzhou')))))\n",
        "    (PONCT: '.')))\n",
        "__________________________leaves:___________________________\n",
        "On\n",
        "\u00e9tudie\n",
        "la\n",
        "d\u00e9gradation\n",
        "du\n",
        "sol\n",
        "du\n",
        "point\n",
        "de\n",
        "vue\n",
        "de\n",
        "la\n",
        "d\u00e9formation\n",
        "axiale\n",
        "cyclique\n",
        "au\n",
        "moyen\n",
        "d'\n",
        "essais\n",
        "triaxiaux\n",
        "contr\u00f4l\u00e9s\n",
        "faits\n",
        "sur\n",
        "l'\n",
        "argile\n",
        "normalement\n",
        "consolid\u00e9e\n",
        "de\n",
        "Hangzhou\n",
        ".\n",
        "_______________________preterminals:________________________\n",
        "CLS\n",
        "V\n",
        "DET\n",
        "NC\n",
        "P+D\n",
        "NC\n",
        "P+D\n",
        "NC\n",
        "P\n",
        "NC\n",
        "P\n",
        "DET\n",
        "NC\n",
        "ADJ\n",
        "ADJ\n",
        "P+D\n",
        "NC\n",
        "P\n",
        "NC\n",
        "ADV\n",
        "VPP\n",
        "VPP\n",
        "P\n",
        "DET\n",
        "NC\n",
        "ADV\n",
        "VPP\n",
        "P\n",
        "NC\n",
        "PONCT\n",
        "['CLS', 'V', 'DET', 'NC', 'P+D', 'NC', 'P+D', 'NC', 'P', 'NC', 'P', 'DET', 'NC', 'ADJ', 'ADJ', 'P+D', 'NC', 'P', 'NC', 'ADV', 'VPP', 'VPP', 'P', 'DET', 'NC', 'ADV', 'VPP', 'P', 'NC', 'PONCT']\n",
        "____________________________end_____________________________\n"
       ]
      }
     ],
     "prompt_number": 3
    },
    {
     "cell_type": "heading",
     "level": 1,
     "metadata": {},
     "source": [
      "Using POS Tags"
     ]
    },
    {
     "cell_type": "markdown",
     "metadata": {},
     "source": [
      "Our method for getting just the list of POS for each word of each sent."
     ]
    },
    {
     "cell_type": "code",
     "collapsed": false,
     "input": [
      "from wsddata import *\n",
      "trn = readPOSFile('Science-parsed.tr.pos')"
     ],
     "language": "python",
     "metadata": {},
     "outputs": [
      {
       "output_type": "pyout",
       "prompt_number": 5,
       "text": [
        "['DET',\n",
        " 'NC',\n",
        " 'P',\n",
        " 'DET',\n",
        " 'NC',\n",
        " 'V',\n",
        " 'ADV',\n",
        " 'VPP',\n",
        " 'VPP',\n",
        " 'P',\n",
        " 'DET',\n",
        " 'NC',\n",
        " 'P',\n",
        " 'NC',\n",
        " 'PONCT']"
       ]
      }
     ],
     "prompt_number": 5
    },
    {
     "cell_type": "code",
     "collapsed": false,
     "input": [
      "str(trn[1:3])"
     ],
     "language": "python",
     "metadata": {},
     "outputs": [
      {
       "output_type": "pyout",
       "prompt_number": 10,
       "text": [
        "\"[['CLS', 'V', 'DET', 'NC', 'P+D', 'NC', 'P+D', 'NC', 'P', 'NC', 'P', 'DET', 'NC', 'ADJ', 'ADJ', 'P+D', 'NC', 'P', 'NC', 'ADV', 'VPP', 'VPP', 'P', 'DET', 'NC', 'ADV', 'VPP', 'P', 'NC', 'PONCT'], ['DET', 'NC', 'P', 'NC', 'P', 'DET', 'NC', 'V', 'VPP', 'ADJ', 'CS', 'DET', 'NC', 'P+D', 'NC', 'ADJ', 'PONCT', 'DET', 'NC', 'CC', 'DET', 'NC', 'PONCT']]\""
       ]
      }
     ],
     "prompt_number": 10
    },
    {
     "cell_type": "code",
     "collapsed": false,
     "input": [
      "i = 0\n",
      "for sent in trn:\n",
      "    if i > 2: break\n",
      "    print sent\n",
      "    i += 1"
     ],
     "language": "python",
     "metadata": {},
     "outputs": [
      {
       "output_type": "stream",
       "stream": "stdout",
       "text": [
        "['DET', 'NC', 'P', 'DET', 'NC', 'V', 'ADV', 'VPP', 'VPP', 'P', 'DET', 'NC', 'P', 'NC', 'PONCT']\n",
        "['CLS', 'V', 'DET', 'NC', 'P+D', 'NC', 'P+D', 'NC', 'P', 'NC', 'P', 'DET', 'NC', 'ADJ', 'ADJ', 'P+D', 'NC', 'P', 'NC', 'ADV', 'VPP', 'VPP', 'P', 'DET', 'NC', 'ADV', 'VPP', 'P', 'NC', 'PONCT']\n",
        "['DET', 'NC', 'P', 'NC', 'P', 'DET', 'NC', 'V', 'VPP', 'ADJ', 'CS', 'DET', 'NC', 'P+D', 'NC', 'ADJ', 'PONCT', 'DET', 'NC', 'CC', 'DET', 'NC', 'PONCT']\n"
       ]
      }
     ],
     "prompt_number": 11
    },
    {
     "cell_type": "code",
     "collapsed": false,
     "input": [],
     "language": "python",
     "metadata": {},
     "outputs": []
    }
   ],
   "metadata": {}
  }
 ]
}